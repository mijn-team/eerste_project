{
 "cells": [
  {
   "cell_type": "code",
   "execution_count": 2,
   "metadata": {},
   "outputs": [
    {
     "name": "stdout",
     "output_type": "stream",
     "text": [
      "downloading https://pyimagesearch.com/wp-content/uploads/2015/01/opencv_logo.png\n",
      "downloading https://pyimagesearch.com/wp-content/uploads/2015/01/google_logo.png\n",
      "downloading https://pyimagesearch.com/wp-content/uploads/2014/12/adrian_face_detection_sidebar.png\n"
     ]
    }
   ],
   "source": [
    "import numpy as np\n",
    "from urllib.request import urlopen\n",
    "\n",
    "from matplotlib import pyplot as plt\n",
    "\n",
    "\n",
    "def url_to_image(url):\n",
    "    # download the image, convert it to a NumPy array, and then read\n",
    "    # it into OpenCV format\n",
    "    resp = urlopen(url)\n",
    "    image = np.asarray(bytearray(resp.read()), dtype=\"uint8\")\n",
    "    image = cv2.imdecode(image, cv2.IMREAD_COLOR)\n",
    "    # return the image\n",
    "    return image\n",
    "\n",
    "urls = [\n",
    "    \"https://pyimagesearch.com/wp-content/uploads/2015/01/opencv_logo.png\",\n",
    "    \"https://pyimagesearch.com/wp-content/uploads/2015/01/google_logo.png\",\n",
    "        \"https://pyimagesearch.com/wp-content/uploads/2014/12/adrian_face_detection_sidebar.png\",\n",
    "]\n",
    "\n",
    "\n",
    "# loop over the image URLs\n",
    "for url in urls:\n",
    "    # download the image URL and display it\n",
    "    print (\"downloading %s\" % (url))\n",
    "    image = url_to_image(url)\n",
    "\n"
   ]
  },
  {
   "cell_type": "code",
   "execution_count": null,
   "metadata": {},
   "outputs": [],
   "source": []
  }
 ],
 "metadata": {
  "kernelspec": {
   "display_name": "Python 3",
   "language": "python",
   "name": "python3"
  },
  "language_info": {
   "codemirror_mode": {
    "name": "ipython",
    "version": 3
   },
   "file_extension": ".py",
   "mimetype": "text/x-python",
   "name": "python",
   "nbconvert_exporter": "python",
   "pygments_lexer": "ipython3",
   "version": "3.7.6"
  }
 },
 "nbformat": 4,
 "nbformat_minor": 2
}
