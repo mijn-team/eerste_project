{
 "cells": [
  {
   "cell_type": "code",
   "execution_count": 3,
   "metadata": {},
   "outputs": [
    {
     "name": "stdout",
     "output_type": "stream",
     "text": [
      "downloading https://pyimagesearch.com/wp-content/uploads/2015/01/opencv_logo.png\n",
      "downloading https://pyimagesearch.com/wp-content/uploads/2015/01/google_logo.png\n",
      "downloading https://pyimagesearch.com/wp-content/uploads/2014/12/adrian_face_detection_sidebar.png\n",
      "downloading https://cdn.icon-icons.com/icons2/1584/PNG/512/3721679-youtube_108064.png\n"
     ]
    }
   ],
   "source": [
    "import numpy as np\n",
    "from urllib.request import urlopen\n",
    "\n",
    "from matplotlib import pyplot as plt\n",
    "\n",
    "\n",
    "\n",
    "urls = [\n",
    "    \"https://pyimagesearch.com/wp-content/uploads/2015/01/opencv_logo.png\",\n",
    "    \"https://pyimagesearch.com/wp-content/uploads/2015/01/google_logo.png\",\n",
    "    \"https://pyimagesearch.com/wp-content/uploads/2014/12/adrian_face_detection_sidebar.png\",\n",
    "    \"https://cdn.icon-icons.com/icons2/1584/PNG/512/3721679-youtube_108064.png\"\n",
    "]\n",
    "\n",
    "\n",
    "# loop over the image URLs\n",
    "for url in urls:\n",
    "    # download the image URL and display it\n",
    "    print (\"downloading %s\" % (url))\n",
    "\n",
    "#Goed bezig pap\n",
    "\n",
    "   "
   ]
  },
  {
   "cell_type": "code",
   "execution_count": 2,
   "metadata": {},
   "outputs": [
    {
     "name": "stdout",
     "output_type": "stream",
     "text": [
      "koekjes\n"
     ]
    }
   ],
   "source": [
    "print(\"koekjes\")"
   ]
  },
  {
   "cell_type": "code",
   "execution_count": null,
   "metadata": {},
   "outputs": [],
   "source": []
  }
 ],
 "metadata": {
  "kernelspec": {
   "display_name": "Python 3",
   "language": "python",
   "name": "python3"
  },
  "language_info": {
   "codemirror_mode": {
    "name": "ipython",
    "version": 3
   },
   "file_extension": ".py",
   "mimetype": "text/x-python",
   "name": "python",
   "nbconvert_exporter": "python",
   "pygments_lexer": "ipython3",
   "version": "3.7.6"
  }
 },
 "nbformat": 4,
 "nbformat_minor": 2
}
